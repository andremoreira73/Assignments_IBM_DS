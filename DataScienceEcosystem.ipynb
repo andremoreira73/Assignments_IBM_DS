{
 "cells": [
  {
   "cell_type": "markdown",
   "id": "52fe5a02",
   "metadata": {},
   "source": [
    "# Data Science Tools and Echosystem"
   ]
  },
  {
   "cell_type": "markdown",
   "id": "13142ed9",
   "metadata": {},
   "source": [
    "## Author\n",
    "Andre Moreira\n"
   ]
  },
  {
   "cell_type": "markdown",
   "id": "01469f46",
   "metadata": {},
   "source": [
    "In this notebook, Data Science Tools and Echosystems are summarized."
   ]
  },
  {
   "cell_type": "markdown",
   "id": "a1f3395e",
   "metadata": {},
   "source": [
    "**Objectives:**\n",
    "\n",
    "- List some of the popular languages used by Data Scientists\n",
    "- List some of the commonly used libraries\n",
    "- Show simple Python code examples "
   ]
  },
  {
   "cell_type": "markdown",
   "id": "9bb61efa",
   "metadata": {},
   "source": [
    "Some of the popular languages that Data Scientists use are:\n",
    "\n",
    "1. Python\n",
    "2. R Language\n",
    "3. SQL"
   ]
  },
  {
   "cell_type": "markdown",
   "id": "91008809",
   "metadata": {},
   "source": [
    "Some of the commonly used libraries used by Data Scientists include:\n",
    "\n",
    "1. Pandas\n",
    "2. NumPy\n",
    "3. MatPlotlib\n",
    "4. sciKit learn\n",
    "5. TensorFlow"
   ]
  },
  {
   "cell_type": "markdown",
   "id": "43fee673",
   "metadata": {},
   "source": [
    "|Data Science Tools|\n",
    "|-|\n",
    "|JupyterLab|\n",
    "|Anaconda Navigator|\n",
    "|R-Studio|"
   ]
  },
  {
   "cell_type": "markdown",
   "id": "255d0728",
   "metadata": {},
   "source": [
    "### Below are a few examples of evaluating arithmetic expressions in Python"
   ]
  },
  {
   "cell_type": "code",
   "execution_count": 1,
   "id": "85a36158",
   "metadata": {},
   "outputs": [
    {
     "data": {
      "text/plain": [
       "17"
      ]
     },
     "execution_count": 1,
     "metadata": {},
     "output_type": "execute_result"
    }
   ],
   "source": [
    "# This is a simple arithmetic expression to multiply then add integers\n",
    "(3*4)+5"
   ]
  },
  {
   "cell_type": "code",
   "execution_count": 10,
   "id": "8f374ef3",
   "metadata": {},
   "outputs": [
    {
     "name": "stdout",
     "output_type": "stream",
     "text": [
      "200 minutes is the same as 3.3333333333333335 hours\n"
     ]
    }
   ],
   "source": [
    "# This will convert 200 minutes to hours by dividing by 60\n",
    "\n",
    "time_in_minutes = 200\n",
    "\n",
    "time_in_hours = time_in_minutes / 60\n",
    "\n",
    "print(time_in_minutes,\"minutes is the same as\", time_in_hours, \"hours\")\n"
   ]
  },
  {
   "cell_type": "code",
   "execution_count": null,
   "id": "69de7b19",
   "metadata": {},
   "outputs": [],
   "source": []
  }
 ],
 "metadata": {
  "kernelspec": {
   "display_name": "Python 3 (ipykernel)",
   "language": "python",
   "name": "python3"
  },
  "language_info": {
   "codemirror_mode": {
    "name": "ipython",
    "version": 3
   },
   "file_extension": ".py",
   "mimetype": "text/x-python",
   "name": "python",
   "nbconvert_exporter": "python",
   "pygments_lexer": "ipython3",
   "version": "3.9.12"
  }
 },
 "nbformat": 4,
 "nbformat_minor": 5
}
